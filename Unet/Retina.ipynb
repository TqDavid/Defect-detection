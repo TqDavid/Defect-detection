{
 "cells": [
  {
   "cell_type": "code",
   "execution_count": 19,
   "metadata": {},
   "outputs": [
    {
     "name": "stdout",
     "output_type": "stream",
     "text": [
      "Requirement already satisfied: ConfigParser in /anaconda/envs/py35/lib/python3.5/site-packages\r\n"
     ]
    }
   ],
   "source": [
    "#!pip install ConfigParser"
   ]
  },
  {
   "cell_type": "code",
   "execution_count": 22,
   "metadata": {},
   "outputs": [
    {
     "name": "stdout",
     "output_type": "stream",
     "text": [
      "Fetching package metadata ...........\n",
      "Solving package specifications: .\n",
      "\n",
      "\n",
      "UnsatisfiableError: The following specifications were found to be in conflict:\n",
      "  - configparser -> python 2.7*\n",
      "  - python 3.5*\n",
      "Use \"conda info <package>\" to see the dependencies for each package.\n",
      "\n",
      "\n"
     ]
    }
   ],
   "source": [
    "#!conda install ConfigParser"
   ]
  },
  {
   "cell_type": "code",
   "execution_count": 35,
   "metadata": {},
   "outputs": [
    {
     "name": "stdout",
     "output_type": "stream",
     "text": [
      "numpy: 1.12.1\n",
      "PIL: 4.1.1\n",
      "cv2: 3.1.0\n",
      "h5py: 2.7.0\n",
      "sklearn: 0.18.1\n"
     ]
    }
   ],
   "source": [
    "import numpy\n",
    "print('numpy: %s' % numpy.__version__)\n",
    "import PIL\n",
    "print('PIL: %s' % PIL.__version__)\n",
    "import cv2\n",
    "print('cv2: %s' % cv2.__version__)\n",
    "import h5py\n",
    "print('h5py: %s' % h5py.__version__)\n",
    "\n",
    "#import ConfigParser\n",
    "import configparser\n",
    "\n",
    "#configparser.RawConfigParser\n",
    "\n",
    "import sklearn\n",
    "print('sklearn: %s' % sklearn.__version__)"
   ]
  },
  {
   "cell_type": "code",
   "execution_count": 36,
   "metadata": {},
   "outputs": [
    {
     "name": "stdout",
     "output_type": "stream",
     "text": [
      "theano: 0.9.0.dev-c697eeab84e5b8a74908da654b66ec9eca4f1291\n",
      "tensorflow: 1.3.0\n",
      "keras: 2.0.4\n"
     ]
    }
   ],
   "source": [
    "# theano\n",
    "import theano\n",
    "print('theano: %s' % theano.__version__)\n",
    "# tensorflow\n",
    "import tensorflow\n",
    "print('tensorflow: %s' % tensorflow.__version__)\n",
    "# keras\n",
    "import keras\n",
    "print('keras: %s' % keras.__version__)"
   ]
  },
  {
   "cell_type": "code",
   "execution_count": null,
   "metadata": {
    "collapsed": true
   },
   "outputs": [],
   "source": [
    "(py35) Chungteki-MacBook-Pro:retina-unet-master chung$ more ~/.keras/keras.json\n",
    "{\n",
    "    \"epsilon\": 1e-07, \n",
    "    \"floatx\": \"float32\", \n",
    "    \"image_data_format\": \"channels_last\",\n",
    "    \"image_dim_ordering\": \"th\", \n",
    "    \"backend\": \"tensorflow\"\n",
    "}\n"
   ]
  }
 ],
 "metadata": {
  "kernelspec": {
   "display_name": "Python [conda env:py35]",
   "language": "python",
   "name": "conda-env-py35-py"
  },
  "language_info": {
   "codemirror_mode": {
    "name": "ipython",
    "version": 3
   },
   "file_extension": ".py",
   "mimetype": "text/x-python",
   "name": "python",
   "nbconvert_exporter": "python",
   "pygments_lexer": "ipython3",
   "version": "3.5.3"
  }
 },
 "nbformat": 4,
 "nbformat_minor": 2
}
