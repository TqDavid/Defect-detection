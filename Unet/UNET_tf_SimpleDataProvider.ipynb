{
 "cells": [
  {
   "cell_type": "code",
   "execution_count": 4,
   "metadata": {
    "collapsed": true
   },
   "outputs": [],
   "source": [
    "from tf_unet import unet, util, image_util\n",
    "import glob\n",
    "import cv2\n",
    "import matplotlib.pyplot as plt\n",
    "import numpy as np\n",
    "#import scipy\n",
    "from scipy import misc\n",
    "%matplotlib inline"
   ]
  },
  {
   "cell_type": "code",
   "execution_count": 5,
   "metadata": {
    "collapsed": true
   },
   "outputs": [],
   "source": [
    "masks_dir = sorted(glob.glob(\"/Users/cesare.chung/int/01_CODE_UNET/NEW/example/*mask.tif\"))\n",
    "imgs_dir = sorted(glob.glob(\"/Users/cesare.chung/int/01_CODE_UNET/NEW/example/*_img.tif\"))\n"
   ]
  },
  {
   "cell_type": "code",
   "execution_count": 6,
   "metadata": {},
   "outputs": [
    {
     "data": {
      "image/png": "[encoded data removed]",
      "text/plain": [
       "<matplotlib.figure.Figure at 0x121b1fd68>"
      ]
     },
     "metadata": {},
     "output_type": "display_data"
    },
    {
     "data": {
      "image/png": "[encoded data removed]",
      "text/plain": [
       "<matplotlib.figure.Figure at 0x125004ef0>"
      ]
     },
     "metadata": {},
     "output_type": "display_data"
    }
   ],
   "source": [
    "X_data=[]\n",
    "for index,entry in enumerate(imgs_dir):\n",
    "    img = misc.imread(entry)\n",
    "    X_data.append(img)\n",
    "\n",
    "Y_data=[]\n",
    "for index,entry in enumerate(masks_dir):\n",
    "    img = misc.imread(entry)\n",
    "    Y_data.append(img)\n",
    "\n",
    "X_data=np.array(X_data)\n",
    "Y_data=np.array(Y_data)\n",
    "\n",
    "plt.imshow(X_data[0,...,1], aspect=\"auto\",cmap='gray')\n",
    "plt.show()\n",
    "plt.imshow(Y_data[0,...,1], aspect=\"auto\",cmap='gray')\n",
    "plt.show()"
   ]
  },
  {
   "cell_type": "code",
   "execution_count": 7,
   "metadata": {
    "collapsed": true
   },
   "outputs": [],
   "source": [
    "data_provider = image_util.SimpleDataProvider(X_data,Y_data,channels=3, n_class=2)\n",
    "data_provider.n_class = 2"
   ]
  },
  {
   "cell_type": "code",
   "execution_count": 8,
   "metadata": {},
   "outputs": [
    {
     "name": "stderr",
     "output_type": "stream",
     "text": [
      "2017-10-28 20:54:27,175 Layers 3, features 64, filter size 3x3, pool size: 2x2\n"
     ]
    }
   ],
   "source": [
    "net = unet.Unet(layers=3, features_root=64, channels=3, n_class=2)\n",
    "\n",
    "#trainer = unet.Trainer(net)\n",
    "trainer = unet.Trainer(net, optimizer=\"adam\")\n"
   ]
  },
  {
   "cell_type": "code",
   "execution_count": 9,
   "metadata": {},
   "outputs": [
    {
     "name": "stderr",
     "output_type": "stream",
     "text": [
      "2017-10-28 20:54:37,376 Removing '/Users/cesare.chung/int/01_CODE_UNET/tf_UNET_test/github/prediction'\n",
      "2017-10-28 20:54:37,378 Removing '/Users/cesare.chung/int/01_CODE_UNET/tf_UNET_test/github/out'\n",
      "2017-10-28 20:54:37,383 Allocating '/Users/cesare.chung/int/01_CODE_UNET/tf_UNET_test/github/prediction'\n",
      "2017-10-28 20:54:37,385 Allocating '/Users/cesare.chung/int/01_CODE_UNET/tf_UNET_test/github/out'\n",
      "2017-10-28 20:54:41,696 Verification error= 5.9%, loss= 171.7308\n",
      "2017-10-28 20:54:45,997 Start optimization\n",
      "2017-10-28 20:54:48,065 Iter 0, Minibatch Loss= 141.2851, Training Accuracy= 0.9411, Minibatch error= 5.9%\n",
      "2017-10-28 20:54:49,987 Iter 1, Minibatch Loss= 84.1766, Training Accuracy= 0.9411, Minibatch error= 5.9%\n",
      "2017-10-28 20:54:51,895 Iter 2, Minibatch Loss= 84.9218, Training Accuracy= 0.9411, Minibatch error= 5.9%\n",
      "2017-10-28 20:54:53,809 Iter 3, Minibatch Loss= 431.7711, Training Accuracy= 0.9411, Minibatch error= 5.9%\n",
      "2017-10-28 20:54:55,736 Iter 4, Minibatch Loss= 2110.3787, Training Accuracy= 0.0589, Minibatch error= 5.9%\n",
      "2017-10-28 20:54:57,651 Iter 5, Minibatch Loss= 9375.4521, Training Accuracy= 0.0589, Minibatch error= 94.1%\n",
      "2017-10-28 20:54:59,576 Iter 6, Minibatch Loss= 37423.2383, Training Accuracy= 0.0589, Minibatch error= 94.1%\n",
      "2017-10-28 20:55:01,489 Iter 7, Minibatch Loss= 135501.9062, Training Accuracy= 0.0589, Minibatch error= 94.1%\n",
      "2017-10-28 20:55:03,414 Iter 8, Minibatch Loss= 450526.0938, Training Accuracy= 0.0589, Minibatch error= 94.1%\n",
      "2017-10-28 20:55:05,328 Iter 9, Minibatch Loss= 1389317.2500, Training Accuracy= 0.0589, Minibatch error= 94.1%\n",
      "2017-10-28 20:55:07,244 Iter 10, Minibatch Loss= 4018895.7500, Training Accuracy= 0.0589, Minibatch error= 94.1%\n",
      "2017-10-28 20:55:09,199 Iter 11, Minibatch Loss= 10976451.0000, Training Accuracy= 0.0589, Minibatch error= 94.1%\n",
      "2017-10-28 20:55:11,158 Iter 12, Minibatch Loss= 28425524.0000, Training Accuracy= 0.0589, Minibatch error= 94.1%\n",
      "2017-10-28 20:55:13,079 Iter 13, Minibatch Loss= 70656288.0000, Training Accuracy= 0.0589, Minibatch error= 94.1%\n",
      "2017-10-28 20:55:15,020 Iter 14, Minibatch Loss= 168149216.0000, Training Accuracy= 0.0589, Minibatch error= 94.1%\n",
      "2017-10-28 20:55:16,931 Iter 15, Minibatch Loss= 386868000.0000, Training Accuracy= 0.0589, Minibatch error= 94.1%\n",
      "2017-10-28 20:55:16,932 Epoch 0, Average loss: 37663475.1101, learning rate: 0.0010\n",
      "2017-10-28 20:55:19,601 Verification error= 94.1%, loss= 386868096.0000\n",
      "/Users/cesare.chung/.local/lib/python3.5/site-packages/tf_unet-0.1.0-py3.5.egg/tf_unet/util.py:74: RuntimeWarning: invalid value encountered in true_divide\n",
      "  img /= np.amax(img)\n",
      "2017-10-28 20:55:24,655 Iter 16, Minibatch Loss= 860942016.0000, Training Accuracy= 0.0589, Minibatch error= 94.1%\n",
      "2017-10-28 20:55:26,607 Iter 17, Minibatch Loss= 1855487616.0000, Training Accuracy= 0.0589, Minibatch error= 94.1%\n",
      "2017-10-28 20:55:28,533 Iter 18, Minibatch Loss= 3885568512.0000, Training Accuracy= 0.0589, Minibatch error= 94.1%\n",
      "2017-10-28 20:55:30,441 Iter 19, Minibatch Loss= 7929899008.0000, Training Accuracy= 0.0589, Minibatch error= 94.1%\n",
      "2017-10-28 20:55:32,382 Iter 20, Minibatch Loss= 15806118912.0000, Training Accuracy= 0.0589, Minibatch error= 94.1%\n",
      "2017-10-28 20:55:34,290 Iter 21, Minibatch Loss= 30799833088.0000, Training Accuracy= 0.0589, Minibatch error= 94.1%\n",
      "2017-10-28 20:55:36,216 Iter 22, Minibatch Loss= 58787287040.0000, Training Accuracy= 0.0589, Minibatch error= 94.1%\n",
      "2017-10-28 20:55:38,159 Iter 23, Minibatch Loss= 110082801664.0000, Training Accuracy= 0.0589, Minibatch error= 94.1%\n",
      "2017-10-28 20:55:40,421 Iter 24, Minibatch Loss= 202538434560.0000, Training Accuracy= 0.0589, Minibatch error= 94.1%\n",
      "2017-10-28 20:55:42,480 Iter 25, Minibatch Loss= 366275428352.0000, Training Accuracy= 0.0589, Minibatch error= 94.1%\n",
      "2017-10-28 20:55:44,554 Iter 26, Minibatch Loss= 652441812992.0000, Training Accuracy= 0.0589, Minibatch error= 94.1%\n",
      "2017-10-28 20:55:46,672 Iter 27, Minibatch Loss= 1145710444544.0000, Training Accuracy= 0.0589, Minibatch error= 94.1%\n",
      "2017-10-28 20:55:48,851 Iter 28, Minibatch Loss= 1981928308736.0000, Training Accuracy= 0.0589, Minibatch error= 94.1%\n",
      "2017-10-28 20:55:51,003 Iter 29, Minibatch Loss= 3385327091712.0000, Training Accuracy= 0.0589, Minibatch error= 94.1%\n",
      "2017-10-28 20:55:53,042 Iter 30, Minibatch Loss= 5709805649920.0000, Training Accuracy= 0.0589, Minibatch error= 94.1%\n",
      "2017-10-28 20:55:55,031 Iter 31, Minibatch Loss= 9512960393216.0000, Training Accuracy= 0.0589, Minibatch error= 94.1%\n",
      "2017-10-28 20:55:55,032 Epoch 1, Average loss: 1587330132620.0000, learning rate: 0.0010\n",
      "2017-10-28 20:55:58,030 Verification error= 94.1%, loss= 9512960393216.0000\n",
      "2017-10-28 20:56:03,947 Iter 32, Minibatch Loss= 15668385677312.0000, Training Accuracy= 0.0589, Minibatch error= 94.1%\n",
      "2017-10-28 20:56:05,996 Iter 33, Minibatch Loss= 25514416799744.0000, Training Accuracy= 0.0589, Minibatch error= 94.1%\n",
      "2017-10-28 20:56:07,943 Iter 34, Minibatch Loss= 41118234312704.0000, Training Accuracy= 0.0589, Minibatch error= 94.1%\n",
      "2017-10-28 20:56:09,873 Iter 35, Minibatch Loss= 65665490747392.0000, Training Accuracy= 0.0589, Minibatch error= 94.1%\n",
      "2017-10-28 20:56:11,810 Iter 36, Minibatch Loss= 103909544689664.0000, Training Accuracy= 0.0589, Minibatch error= 94.1%\n",
      "2017-10-28 20:56:13,728 Iter 37, Minibatch Loss= 162920977661952.0000, Training Accuracy= 0.0589, Minibatch error= 94.1%\n",
      "2017-10-28 20:56:15,693 Iter 38, Minibatch Loss= 253117958455296.0000, Training Accuracy= 0.0589, Minibatch error= 94.1%\n",
      "2017-10-28 20:56:17,613 Iter 39, Minibatch Loss= 389935752282112.0000, Training Accuracy= 0.0589, Minibatch error= 94.1%\n",
      "2017-10-28 20:56:19,568 Iter 40, Minibatch Loss= 595462386089984.0000, Training Accuracy= 0.0589, Minibatch error= 94.1%\n",
      "2017-10-28 20:56:21,500 Iter 41, Minibatch Loss= 902943792431104.0000, Training Accuracy= 0.0589, Minibatch error= 94.1%\n",
      "2017-10-28 20:56:23,426 Iter 42, Minibatch Loss= 1358773436284928.0000, Training Accuracy= 0.0589, Minibatch error= 94.1%\n",
      "2017-10-28 20:56:25,349 Iter 43, Minibatch Loss= 2029723160936448.0000, Training Accuracy= 0.0589, Minibatch error= 94.1%\n",
      "2017-10-28 20:56:27,271 Iter 44, Minibatch Loss= 3012542674763776.0000, Training Accuracy= 0.0589, Minibatch error= 94.1%\n",
      "2017-10-28 20:56:29,223 Iter 45, Minibatch Loss= 4438358805708800.0000, Training Accuracy= 0.0589, Minibatch error= 94.1%\n",
      "2017-10-28 20:56:31,194 Iter 46, Minibatch Loss= 6494219795431424.0000, Training Accuracy= 0.0589, Minibatch error= 94.1%\n",
      "2017-10-28 20:56:33,114 Iter 47, Minibatch Loss= 9444139162664960.0000, Training Accuracy= 0.0589, Minibatch error= 94.1%\n",
      "2017-10-28 20:56:33,115 Epoch 2, Average loss: 2292717835386880.0000, learning rate: 0.0010\n",
      "2017-10-28 20:56:35,752 Verification error= 94.1%, loss= 9444137015181312.0000\n",
      "2017-10-28 20:56:40,018 Optimization Finished!\n"
     ]
    }
   ],
   "source": [
    "\n",
    "path = trainer.train(data_provider, output_path=\"out\", training_iters=16, epochs=3)\n"
   ]
  },
  {
   "cell_type": "code",
   "execution_count": null,
   "metadata": {
    "collapsed": true
   },
   "outputs": [],
   "source": []
  },
  {
   "cell_type": "code",
   "execution_count": null,
   "metadata": {
    "collapsed": true
   },
   "outputs": [],
   "source": []
  }
 ],
 "metadata": {
  "kernelspec": {
   "display_name": "Python 3",
   "language": "python",
   "name": "python3"
  },
  "language_info": {
   "codemirror_mode": {
    "name": "ipython",
    "version": 3
   },
   "file_extension": ".py",
   "mimetype": "text/x-python",
   "name": "python",
   "nbconvert_exporter": "python",
   "pygments_lexer": "ipython3",
   "version": "3.5.3"
  }
 },
 "nbformat": 4,
 "nbformat_minor": 2
}
