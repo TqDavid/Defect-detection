{
 "cells": [
  {
   "cell_type": "code",
   "execution_count": 33,
   "metadata": {},
   "outputs": [
    {
     "name": "stdout",
     "output_type": "stream",
     "text": [
      "NumPy version 1.12.1\n",
      "SciPy version 0.19.0\n"
     ]
    }
   ],
   "source": [
    "import numpy as np\n",
    "import scipy\n",
    "\n",
    "import os\n",
    "import matplotlib.pyplot as plt\n",
    "\n",
    "import matplotlib.gridspec as gridspec\n",
    "import itertools\n",
    "from mlxtend.plotting import plot_decision_regions\n",
    "\n",
    "import mglearn\n",
    "import tflearn\n",
    "from tflearn.data_utils import load_image\n",
    "\n",
    "print (\"NumPy version\", np.__version__)\n",
    "print (\"SciPy version\", scipy.__version__)\n",
    "\n",
    "SCRIPT_PATH = \"/Users/cesare.chung/int/01_CODE_UNET/NEW/\"\n"
   ]
  },
  {
   "cell_type": "code",
   "execution_count": 34,
   "metadata": {
    "collapsed": true
   },
   "outputs": [],
   "source": [
    "#\n",
    "imgs = []\n",
    "num = 3\n",
    "for i in range(1, num + 1):\n",
    "    img = load_image(\"%s/trainData_tftf/%s.gif\" % (SCRIPT_PATH, i))\n",
    "#    img = img.resize((564,584))\n",
    "    img_arr = np.asarray(img)\n",
    "    imgs.append(img_arr)\n",
    "#\n",
    "imgs = np.array(imgs)\n"
   ]
  },
  {
   "cell_type": "code",
   "execution_count": 35,
   "metadata": {},
   "outputs": [
    {
     "name": "stdout",
     "output_type": "stream",
     "text": [
      "Mura Images Shape = (584, 565)\n",
      "Mura Images Dim.  = 2\n",
      "Mura Images Type  = uint8\n"
     ]
    },
    {
     "data": {
      "image/png": "[encoded data removed]",
      "text/plain": [
       "<matplotlib.figure.Figure at 0x129e31ba8>"
      ]
     },
     "metadata": {},
     "output_type": "display_data"
    },
    {
     "name": "stdout",
     "output_type": "stream",
     "text": [
      "Mura Images Shape = (584, 565)\n",
      "Mura Images Dim.  = 2\n",
      "Mura Images Type  = uint8\n"
     ]
    },
    {
     "data": {
      "image/png": "[encoded data removed]",
      "text/plain": [
       "<matplotlib.figure.Figure at 0x129f1de80>"
      ]
     },
     "metadata": {},
     "output_type": "display_data"
    },
    {
     "name": "stdout",
     "output_type": "stream",
     "text": [
      "Mura Images Shape = (584, 565)\n",
      "Mura Images Dim.  = 2\n",
      "Mura Images Type  = uint8\n"
     ]
    },
    {
     "data": {
      "image/png": "[encoded data removed]",
      "text/plain": [
       "<matplotlib.figure.Figure at 0x129e3c8d0>"
      ]
     },
     "metadata": {},
     "output_type": "display_data"
    }
   ],
   "source": [
    "#################################\n",
    "# Show pictures / shape         #\n",
    "#################################\n",
    "for i in range(num):\n",
    "    input_image = imgs[i]\n",
    "    print ('Mura Images Shape = {}'.format(input_image.shape))\n",
    "    print ('Mura Images Dim.  = {}'.format(input_image.ndim))\n",
    "    print ('Mura Images Type  = {}'.format(input_image.dtype))\n",
    "    plt.imshow(imgs[i])\n",
    "    plt.show()\n",
    "#"
   ]
  },
  {
   "cell_type": "code",
   "execution_count": 36,
   "metadata": {},
   "outputs": [
    {
     "name": "stdout",
     "output_type": "stream",
     "text": [
      "Img. Shape :  (3, 584, 565)\n",
      "Img0. Shape :  (584, 565)\n"
     ]
    },
    {
     "data": {
      "text/plain": [
       "array([[0, 0, 0, ..., 0, 0, 0],\n",
       "       [0, 0, 0, ..., 0, 0, 0],\n",
       "       [0, 0, 0, ..., 0, 0, 0],\n",
       "       ..., \n",
       "       [0, 0, 0, ..., 0, 0, 0],\n",
       "       [0, 0, 0, ..., 0, 0, 0],\n",
       "       [0, 0, 0, ..., 0, 0, 0]], dtype=uint8)"
      ]
     },
     "execution_count": 36,
     "metadata": {},
     "output_type": "execute_result"
    }
   ],
   "source": [
    "print (\"Img. Shape : \", imgs.shape)\n",
    "\n",
    "Image0 = imgs[0]\n",
    "print (\"Img0. Shape : \", Image0.shape)\n",
    "\n",
    "Image0"
   ]
  },
  {
   "cell_type": "code",
   "execution_count": null,
   "metadata": {
    "collapsed": true
   },
   "outputs": [],
   "source": []
  }
 ],
 "metadata": {
  "kernelspec": {
   "display_name": "Python 3",
   "language": "python",
   "name": "python3"
  },
  "language_info": {
   "codemirror_mode": {
    "name": "ipython",
    "version": 3
   },
   "file_extension": ".py",
   "mimetype": "text/x-python",
   "name": "python",
   "nbconvert_exporter": "python",
   "pygments_lexer": "ipython3",
   "version": "3.5.3"
  }
 },
 "nbformat": 4,
 "nbformat_minor": 2
}
